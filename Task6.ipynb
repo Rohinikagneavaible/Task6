{
 "cells": [
  {
   "cell_type": "code",
   "execution_count": 1,
   "id": "52c76697-ca7c-438e-872c-4355f7276567",
   "metadata": {},
   "outputs": [],
   "source": [
    "# Importing important libraries\n",
    "import pandas as pd\n",
    "import numpy as np\n",
    "import matplotlib.pyplot as plt\n",
    "import seaborn as sns"
   ]
  },
  {
   "cell_type": "code",
   "execution_count": 2,
   "id": "1a59def2-077c-4aa9-b943-18a73b8af64f",
   "metadata": {},
   "outputs": [],
   "source": [
    "# Loading data\n",
    "df = pd.read_csv('F:\\\\Down\\\\disney_plus_titles.csv')"
   ]
  },
  {
   "cell_type": "code",
   "execution_count": 3,
   "id": "291733a8-e3bd-41b7-bf29-3ac01a0183cc",
   "metadata": {},
   "outputs": [
    {
     "data": {
      "text/html": [
       "<div>\n",
       "<style scoped>\n",
       "    .dataframe tbody tr th:only-of-type {\n",
       "        vertical-align: middle;\n",
       "    }\n",
       "\n",
       "    .dataframe tbody tr th {\n",
       "        vertical-align: top;\n",
       "    }\n",
       "\n",
       "    .dataframe thead th {\n",
       "        text-align: right;\n",
       "    }\n",
       "</style>\n",
       "<table border=\"1\" class=\"dataframe\">\n",
       "  <thead>\n",
       "    <tr style=\"text-align: right;\">\n",
       "      <th></th>\n",
       "      <th>show_id</th>\n",
       "      <th>type</th>\n",
       "      <th>title</th>\n",
       "      <th>director</th>\n",
       "      <th>cast</th>\n",
       "      <th>country</th>\n",
       "      <th>date_added</th>\n",
       "      <th>release_year</th>\n",
       "      <th>rating</th>\n",
       "      <th>duration</th>\n",
       "      <th>listed_in</th>\n",
       "      <th>description</th>\n",
       "    </tr>\n",
       "  </thead>\n",
       "  <tbody>\n",
       "    <tr>\n",
       "      <th>0</th>\n",
       "      <td>s1</td>\n",
       "      <td>Movie</td>\n",
       "      <td>Duck the Halls: A Mickey Mouse Christmas Special</td>\n",
       "      <td>Alonso Ramirez Ramos, Dave Wasson</td>\n",
       "      <td>Chris Diamantopoulos, Tony Anselmo, Tress MacN...</td>\n",
       "      <td>NaN</td>\n",
       "      <td>November 26, 2021</td>\n",
       "      <td>2016</td>\n",
       "      <td>TV-G</td>\n",
       "      <td>23 min</td>\n",
       "      <td>Animation, Family</td>\n",
       "      <td>Join Mickey and the gang as they duck the halls!</td>\n",
       "    </tr>\n",
       "    <tr>\n",
       "      <th>1</th>\n",
       "      <td>s2</td>\n",
       "      <td>Movie</td>\n",
       "      <td>Ernest Saves Christmas</td>\n",
       "      <td>John Cherry</td>\n",
       "      <td>Jim Varney, Noelle Parker, Douglas Seale</td>\n",
       "      <td>NaN</td>\n",
       "      <td>November 26, 2021</td>\n",
       "      <td>1988</td>\n",
       "      <td>PG</td>\n",
       "      <td>91 min</td>\n",
       "      <td>Comedy</td>\n",
       "      <td>Santa Claus passes his magic bag to a new St. ...</td>\n",
       "    </tr>\n",
       "    <tr>\n",
       "      <th>2</th>\n",
       "      <td>s3</td>\n",
       "      <td>Movie</td>\n",
       "      <td>Ice Age: A Mammoth Christmas</td>\n",
       "      <td>Karen Disher</td>\n",
       "      <td>Raymond Albert Romano, John Leguizamo, Denis L...</td>\n",
       "      <td>United States</td>\n",
       "      <td>November 26, 2021</td>\n",
       "      <td>2011</td>\n",
       "      <td>TV-G</td>\n",
       "      <td>23 min</td>\n",
       "      <td>Animation, Comedy, Family</td>\n",
       "      <td>Sid the Sloth is on Santa's naughty list.</td>\n",
       "    </tr>\n",
       "  </tbody>\n",
       "</table>\n",
       "</div>"
      ],
      "text/plain": [
       "  show_id   type                                             title  \\\n",
       "0      s1  Movie  Duck the Halls: A Mickey Mouse Christmas Special   \n",
       "1      s2  Movie                            Ernest Saves Christmas   \n",
       "2      s3  Movie                      Ice Age: A Mammoth Christmas   \n",
       "\n",
       "                            director  \\\n",
       "0  Alonso Ramirez Ramos, Dave Wasson   \n",
       "1                        John Cherry   \n",
       "2                       Karen Disher   \n",
       "\n",
       "                                                cast        country  \\\n",
       "0  Chris Diamantopoulos, Tony Anselmo, Tress MacN...            NaN   \n",
       "1           Jim Varney, Noelle Parker, Douglas Seale            NaN   \n",
       "2  Raymond Albert Romano, John Leguizamo, Denis L...  United States   \n",
       "\n",
       "          date_added  release_year rating duration                  listed_in  \\\n",
       "0  November 26, 2021          2016   TV-G   23 min          Animation, Family   \n",
       "1  November 26, 2021          1988     PG   91 min                     Comedy   \n",
       "2  November 26, 2021          2011   TV-G   23 min  Animation, Comedy, Family   \n",
       "\n",
       "                                         description  \n",
       "0   Join Mickey and the gang as they duck the halls!  \n",
       "1  Santa Claus passes his magic bag to a new St. ...  \n",
       "2          Sid the Sloth is on Santa's naughty list.  "
      ]
     },
     "execution_count": 3,
     "metadata": {},
     "output_type": "execute_result"
    }
   ],
   "source": [
    "df.head(3)"
   ]
  },
  {
   "cell_type": "code",
   "execution_count": 4,
   "id": "4849a3d8-4035-4943-b723-a894d119f6a8",
   "metadata": {},
   "outputs": [
    {
     "data": {
      "text/plain": [
       "(1450, 12)"
      ]
     },
     "execution_count": 4,
     "metadata": {},
     "output_type": "execute_result"
    }
   ],
   "source": [
    "df.shape"
   ]
  },
  {
   "cell_type": "code",
   "execution_count": 5,
   "id": "431c9a92-c596-4441-8846-f4743a47b0b3",
   "metadata": {},
   "outputs": [
    {
     "name": "stdout",
     "output_type": "stream",
     "text": [
      "<class 'pandas.core.frame.DataFrame'>\n",
      "RangeIndex: 1450 entries, 0 to 1449\n",
      "Data columns (total 12 columns):\n",
      " #   Column        Non-Null Count  Dtype \n",
      "---  ------        --------------  ----- \n",
      " 0   show_id       1450 non-null   object\n",
      " 1   type          1450 non-null   object\n",
      " 2   title         1450 non-null   object\n",
      " 3   director      977 non-null    object\n",
      " 4   cast          1260 non-null   object\n",
      " 5   country       1231 non-null   object\n",
      " 6   date_added    1447 non-null   object\n",
      " 7   release_year  1450 non-null   int64 \n",
      " 8   rating        1447 non-null   object\n",
      " 9   duration      1450 non-null   object\n",
      " 10  listed_in     1450 non-null   object\n",
      " 11  description   1450 non-null   object\n",
      "dtypes: int64(1), object(11)\n",
      "memory usage: 136.1+ KB\n"
     ]
    }
   ],
   "source": [
    "df.info()"
   ]
  },
  {
   "cell_type": "markdown",
   "id": "22125c07-74e6-4d16-9cd8-2a77a3b3b428",
   "metadata": {},
   "source": [
    "Data Transformation"
   ]
  },
  {
   "cell_type": "code",
   "execution_count": null,
   "id": "25396c57-d5dc-41e6-880c-b4b970145e3d",
   "metadata": {},
   "outputs": [],
   "source": [
    "# Creating new columns from existing column\n",
    "df[['g1','g2','g3']] = df['listed_in'].str.split(',', expand = True)"
   ]
  },
  {
   "cell_type": "markdown",
   "id": "5b1d3d6a-ec0f-4298-a8b0-2919fb0576bd",
   "metadata": {},
   "source": [
    "Data Reduction"
   ]
  },
  {
   "cell_type": "code",
   "execution_count": null,
   "id": "22053fc8-f394-48d2-a4ba-8f25a98465b5",
   "metadata": {},
   "outputs": [],
   "source": [
    "# Removing unnecessary columns\n",
    "df.drop(['show_id', 'description', 'listed_in'], axis = 1 ,inplace = True)"
   ]
  },
  {
   "cell_type": "markdown",
   "id": "6b9bffa6-830b-4a66-adc3-47429a5d10d7",
   "metadata": {},
   "source": [
    "Data Cleaning"
   ]
  },
  {
   "cell_type": "code",
   "execution_count": 7,
   "id": "18abedb1-9a36-480a-a77b-f430b5a7dc4e",
   "metadata": {},
   "outputs": [
    {
     "data": {
      "text/plain": [
       "show_id           0\n",
       "type              0\n",
       "title             0\n",
       "director        473\n",
       "cast            190\n",
       "country         219\n",
       "date_added        3\n",
       "release_year      0\n",
       "rating            3\n",
       "duration          0\n",
       "listed_in         0\n",
       "description       0\n",
       "g1                0\n",
       "g2               64\n",
       "g3              376\n",
       "dtype: int64"
      ]
     },
     "execution_count": 7,
     "metadata": {},
     "output_type": "execute_result"
    }
   ],
   "source": [
    "# Checking for null values\n",
    "df.isnull().sum()"
   ]
  },
  {
   "cell_type": "code",
   "execution_count": 8,
   "id": "565c4f80-efe9-4252-98db-ca453c447156",
   "metadata": {},
   "outputs": [
    {
     "data": {
      "text/plain": [
       "np.int64(0)"
      ]
     },
     "execution_count": 8,
     "metadata": {},
     "output_type": "execute_result"
    }
   ],
   "source": [
    "# Flling null values\n",
    "df['director'] = df['director'].fillna('without director reference')\n",
    "df['director'].isnull().sum()"
   ]
  },
  {
   "cell_type": "code",
   "execution_count": 9,
   "id": "97f61cd3-8d08-48ec-ad86-6cc63a227d88",
   "metadata": {},
   "outputs": [
    {
     "data": {
      "text/plain": [
       "np.int64(0)"
      ]
     },
     "execution_count": 9,
     "metadata": {},
     "output_type": "execute_result"
    }
   ],
   "source": [
    "df['cast'] = df['cast'].fillna('without cast reference')\n",
    "df['cast'].isnull().sum()"
   ]
  },
  {
   "cell_type": "code",
   "execution_count": 10,
   "id": "1f68e53e-402b-446c-995b-bd4de6934340",
   "metadata": {},
   "outputs": [
    {
     "data": {
      "text/plain": [
       "np.int64(0)"
      ]
     },
     "execution_count": 10,
     "metadata": {},
     "output_type": "execute_result"
    }
   ],
   "source": [
    "df['country'] = df['country'].fillna('without country reference')\n",
    "df['country'].isnull().sum()\n"
   ]
  },
  {
   "cell_type": "code",
   "execution_count": 11,
   "id": "5db112a5-25cb-4454-9fa7-760ac260f37c",
   "metadata": {},
   "outputs": [
    {
     "data": {
      "text/plain": [
       "np.int64(0)"
      ]
     },
     "execution_count": 11,
     "metadata": {},
     "output_type": "execute_result"
    }
   ],
   "source": [
    "df['rating'] = df['rating'].fillna('without rating')\n",
    "df['rating'].isnull().sum()"
   ]
  },
  {
   "cell_type": "code",
   "execution_count": 15,
   "id": "0bb4c45d-29c5-48fc-9e6c-5738021903c2",
   "metadata": {},
   "outputs": [
    {
     "data": {
      "text/plain": [
       "show_id         0\n",
       "type            0\n",
       "title           0\n",
       "director        0\n",
       "cast            0\n",
       "country         0\n",
       "date_added      0\n",
       "release_year    0\n",
       "rating          0\n",
       "duration        0\n",
       "listed_in       0\n",
       "description     0\n",
       "g1              0\n",
       "g2              0\n",
       "g3              0\n",
       "dtype: int64"
      ]
     },
     "execution_count": 15,
     "metadata": {},
     "output_type": "execute_result"
    }
   ],
   "source": [
    "# Filling null values \n",
    "df.fillna(0, inplace = True)\n",
    "df.isnull().sum()"
   ]
  },
  {
   "cell_type": "code",
   "execution_count": 16,
   "id": "2444f839-1325-453d-b138-3147e4c79b33",
   "metadata": {},
   "outputs": [
    {
     "data": {
      "text/plain": [
       "np.int64(0)"
      ]
     },
     "execution_count": 16,
     "metadata": {},
     "output_type": "execute_result"
    }
   ],
   "source": [
    "# Checking for duplicated values\n",
    "df.duplicated().sum()"
   ]
  },
  {
   "cell_type": "code",
   "execution_count": 14,
   "id": "d8b09d45-b511-483a-8e08-df3d092c3e4c",
   "metadata": {},
   "outputs": [
    {
     "data": {
      "text/plain": [
       "np.int64(0)"
      ]
     },
     "execution_count": 14,
     "metadata": {},
     "output_type": "execute_result"
    }
   ],
   "source": [
    "# Checking for duplicated values\n",
    "df.duplicated().sum()"
   ]
  },
  {
   "cell_type": "markdown",
   "id": "7c7680b6-82c3-4db0-a128-de5fafaf3f21",
   "metadata": {},
   "source": [
    "Data Visualization"
   ]
  },
  {
   "cell_type": "markdown",
   "id": "a7a17dec-7fd2-4505-9269-1a2dff4a1f4e",
   "metadata": {},
   "source": [
    "Questions to be answered-"
   ]
  },
  {
   "cell_type": "markdown",
   "id": "19ef23dd-c0d7-4c0d-8139-76243ceefdd6",
   "metadata": {},
   "source": [
    "1. Which year of 20s released more numbers of Movies/TV Shows?\n",
    "2. Show the difference in Movies released and TV Shows released of top 3 year of 20s having the most released.\n",
    "3. What are the total number of movies and tv shows released?\n",
    "4. Which year of 20s has released the most Action-Adventure movies/tv shows?\n",
    "5. Which category of rating has the most number of releases?"
   ]
  },
  {
   "cell_type": "markdown",
   "id": "c33117bd-d747-4625-9ea1-722172d31e75",
   "metadata": {},
   "source": [
    "Que 1. Which year of 20s released more numbers of Movies/TV Shows?"
   ]
  },
  {
   "cell_type": "code",
   "execution_count": 19,
   "id": "accfc294-0e8c-4d95-83b8-fb9b4f05058e",
   "metadata": {},
   "outputs": [
    {
     "data": {
      "image/png": "[encoded data removed]",
      "text/plain": [
       "<Figure size 1200x600 with 1 Axes>"
      ]
     },
     "metadata": {},
     "output_type": "display_data"
    }
   ],
   "source": [
    "ans1 = df.query('release_year >= 2000')\n",
    "plt.figure(figsize = (12,6))\n",
    "sns.set_style('dark')\n",
    "sns.countplot(ans1, x = 'release_year')\n",
    "plt.grid(True)\n",
    "plt.show()"
   ]
  },
  {
   "cell_type": "markdown",
   "id": "cfee85db-ac52-4257-aaa9-00e4731c243b",
   "metadata": {},
   "source": [
    "Answer-\n",
    "\n",
    "2020 from 20s released the hightest number of shows."
   ]
  },
  {
   "cell_type": "markdown",
   "id": "ca43ed14-36f0-412a-9b40-c8d62eba0a26",
   "metadata": {},
   "source": [
    "Que 2. Show the difference in Movies released and TV Shows released of top 3 year of 20s having the most released.\n",
    "\n"
   ]
  },
  {
   "cell_type": "code",
   "execution_count": 20,
   "id": "b30c3641-8796-4976-802c-402790ab136a",
   "metadata": {},
   "outputs": [
    {
     "data": {
      "image/png": "[encoded data removed]",
      "text/plain": [
       "<Figure size 640x480 with 1 Axes>"
      ]
     },
     "metadata": {},
     "output_type": "display_data"
    }
   ],
   "source": [
    "ans2 = df.query('release_year == [2020,2021,2019]')\n",
    "sns.countplot(ans2, x = 'release_year', hue = 'type')\n",
    "plt.grid(True)\n",
    "plt.show()"
   ]
  },
  {
   "cell_type": "markdown",
   "id": "4a3107cc-387e-4964-9e56-8ded8d8c663f",
   "metadata": {},
   "source": [
    "Answer-\n",
    "\n",
    "Showing the difference between Movies released and TV Shows released of 2019, 2020 and 2021.\n",
    "\n",
    "\n",
    "Que 3. What are the total number of movies and tv shows released?\n",
    "\n"
   ]
  },
  {
   "cell_type": "code",
   "execution_count": 21,
   "id": "9e15a399-9f8b-439e-8a76-895c2dcc2b50",
   "metadata": {},
   "outputs": [
    {
     "data": {
      "text/plain": [
       "type\n",
       "Movie      1052\n",
       "TV Show     398\n",
       "Name: count, dtype: int64"
      ]
     },
     "execution_count": 21,
     "metadata": {},
     "output_type": "execute_result"
    }
   ],
   "source": [
    "ans3 = df['type'].value_counts()\n",
    "ans3"
   ]
  },
  {
   "cell_type": "code",
   "execution_count": 22,
   "id": "9e2373e7-d35a-4101-8f17-1701a7bbdc9b",
   "metadata": {},
   "outputs": [
    {
     "data": {
      "image/png": "[encoded data removed]",
      "text/plain": [
       "<Figure size 640x480 with 1 Axes>"
      ]
     },
     "metadata": {},
     "output_type": "display_data"
    }
   ],
   "source": [
    "plt.pie(ans3, labels = ['Movies', 'TV Show'])\n",
    "plt.show()"
   ]
  },
  {
   "cell_type": "markdown",
   "id": "832d4769-c2d4-4e1e-a691-76701b4aafe0",
   "metadata": {},
   "source": [
    "Answer-\n",
    "\n",
    "Total number of Movie released is 991\n",
    "\n",
    "Total number of TV Shows released is 377\n",
    "\n",
    "Que 4. Which year of 20s has released the most Action-Adventure movies/tv shows?\n",
    "\n"
   ]
  },
  {
   "cell_type": "code",
   "execution_count": 24,
   "id": "ca20c26e-055d-4fc2-aa2c-4e74c44bf6a5",
   "metadata": {},
   "outputs": [
    {
     "data": {
      "image/png": "[encoded data removed]",
      "text/plain": [
       "<Figure size 1200x600 with 1 Axes>"
      ]
     },
     "metadata": {},
     "output_type": "display_data"
    }
   ],
   "source": [
    "acad = df.query(\"release_year >= 2000 and g1 == 'Action-Adventure'  or g2 == 'Action-Adventure' or g3 == 'Action-Adventure'\")\n",
    "plt.figure(figsize = (12,6))\n",
    "sns.countplot(acad, x = 'release_year')\n",
    "plt.grid(True)\n",
    "plt.show()"
   ]
  },
  {
   "cell_type": "markdown",
   "id": "4ab1a345-04d6-4fa5-a8d0-18b063743ede",
   "metadata": {},
   "source": [
    "Answer-\n",
    "\n",
    "2014 from 20s has released the most number of Action-Adventure movies/shows.\n",
    "\n",
    "Que 5. Which category of rating has the most number of releases?\n",
    "\n"
   ]
  },
  {
   "cell_type": "code",
   "execution_count": 25,
   "id": "c56edb47-4615-4602-acb6-39ff5aca009c",
   "metadata": {},
   "outputs": [
    {
     "data": {
      "text/plain": [
       "rating\n",
       "TV-G              318\n",
       "TV-PG             301\n",
       "G                 253\n",
       "PG                236\n",
       "TV-Y7             131\n",
       "TV-14              79\n",
       "PG-13              66\n",
       "TV-Y               50\n",
       "TV-Y7-FV           13\n",
       "without rating      3\n",
       "Name: count, dtype: int64"
      ]
     },
     "execution_count": 25,
     "metadata": {},
     "output_type": "execute_result"
    }
   ],
   "source": [
    "ans5 = df['rating'].value_counts()\n",
    "ans5"
   ]
  },
  {
   "cell_type": "code",
   "execution_count": 27,
   "id": "835b16c4-792a-4caa-89e2-5551360fb4e0",
   "metadata": {
    "scrolled": true
   },
   "outputs": [
    {
     "data": {
      "image/png": "[encoded data removed]",
      "text/plain": [
       "<Figure size 600x600 with 1 Axes>"
      ]
     },
     "metadata": {},
     "output_type": "display_data"
    }
   ],
   "source": [
    "plt.figure(figsize = (6,6))\n",
    "plt.pie(ans5, labels = ['TV-G', 'TV-PG', 'G', 'PG', 'TV-Y7', 'TV-14', 'PG-13', 'TV-Y', 'TV-Y7-FV', 'without rating'])\n",
    "plt.show()"
   ]
  },
  {
   "cell_type": "markdown",
   "id": "dbc0473d-61e6-46ab-93c7-a560dd6bafaa",
   "metadata": {},
   "source": [
    "Answer\n",
    "\n",
    "TV-G has the most number of releases viz 307."
   ]
  },
  {
   "cell_type": "code",
   "execution_count": null,
   "id": "e0f0f298-87fe-429d-b62e-76ef88fc59bd",
   "metadata": {},
   "outputs": [],
   "source": []
  }
 ],
 "metadata": {
  "kernelspec": {
   "display_name": "Python 3 (ipykernel)",
   "language": "python",
   "name": "python3"
  },
  "language_info": {
   "codemirror_mode": {
    "name": "ipython",
    "version": 3
   },
   "file_extension": ".py",
   "mimetype": "text/x-python",
   "name": "python",
   "nbconvert_exporter": "python",
   "pygments_lexer": "ipython3",
   "version": "3.12.4"
  }
 },
 "nbformat": 4,
 "nbformat_minor": 5
}
